{
 "cells": [
  {
   "cell_type": "markdown",
   "metadata": {},
   "source": [
    "本版本考慮詞頻之影響，取消詞性的篩選，並透過自然指數的方式來調整權重"
   ]
  },
  {
   "cell_type": "code",
   "execution_count": 1,
   "metadata": {},
   "outputs": [],
   "source": [
    "import json\n",
    "from ckip_transformers.nlp import CkipWordSegmenter\n",
    "import re\n"
   ]
  },
  {
   "cell_type": "code",
   "execution_count": 2,
   "metadata": {},
   "outputs": [],
   "source": [
    "# config\n",
    "\n",
    "question = './questions_example.json'\n",
    "reg = \"[\\s\\-，.。\\:：！!；;\\?？（）\\(\\)\\\"\\'《》〈〉．～—─\\=「」『』、”“·／\\#\\[\\]\\$,－]\"\n",
    "dbInvertedIndex = './convert-to-db/inverted-index.db'\n",
    "dbWordFrequency = './word-frequency/word-frequency.db'"
   ]
  },
  {
   "cell_type": "code",
   "execution_count": 3,
   "metadata": {},
   "outputs": [],
   "source": [
    "ws_driver = CkipWordSegmenter(level=1, device=0)\n"
   ]
  },
  {
   "cell_type": "code",
   "execution_count": 4,
   "metadata": {},
   "outputs": [],
   "source": [
    "with open(question, encoding='utf8') as j:\n",
    "    qs = json.load(j)\n"
   ]
  },
  {
   "cell_type": "code",
   "execution_count": 5,
   "metadata": {},
   "outputs": [],
   "source": [
    "def wsAndPos(text): # text is string list\n",
    "    for i, _ in enumerate(text):\n",
    "        text[i] = re.sub(reg, \" \", text[i])\n",
    "    ws = ws_driver(text, show_progress=False)\n",
    "    return ws\n"
   ]
  },
  {
   "cell_type": "code",
   "execution_count": 6,
   "metadata": {},
   "outputs": [],
   "source": [
    "import sqlite3\n",
    "\n",
    "conn = sqlite3.connect(dbInvertedIndex)\n",
    "cursor = conn.cursor()\n",
    "\n",
    "def findAidList(word):\n",
    "    sql = \"SELECT aids from mapping WHERE word = ?\"\n",
    "    res = cursor.execute(sql, (word,)).fetchone()\n",
    "    if res is None:\n",
    "        return []\n",
    "    else:\n",
    "        return res[0].split()\n",
    "\n",
    "conn2 = sqlite3.connect(dbWordFrequency)\n",
    "cursor2 = conn2.cursor()\n",
    "def getFrequency(word):\n",
    "    sql = \"SELECT num from frequency WHERE word = ?\"\n",
    "    res = cursor2.execute(sql, (word,)).fetchone()\n",
    "    return 0 if res is None else int(res[0])\n"
   ]
  },
  {
   "cell_type": "code",
   "execution_count": 7,
   "metadata": {},
   "outputs": [],
   "source": [
    "def findAidListByWordList(wordList):\n",
    "    ret = []\n",
    "    for word in wordList:\n",
    "        ret.append(findAidList(word))\n",
    "    return ret\n"
   ]
  },
  {
   "cell_type": "code",
   "execution_count": 8,
   "metadata": {},
   "outputs": [],
   "source": [
    "import math\n",
    "\n",
    "# 自然指數最高可以到 710 次方\n",
    "threshold = 700\n",
    "\n",
    "def evaluate(questionAids, questionWords, answerAids):\n",
    "    score = 0\n",
    "    for a1, w1 in zip(questionAids, questionWords):\n",
    "        # 當 frequency 過大時 exponential 也算不出來因此在此把他欄截\n",
    "        # 透過此方式減少 intersection 計算量\n",
    "\n",
    "        f = getFrequency(w1)\n",
    "        if f > threshold:\n",
    "            continue\n",
    "        set1 = set(a1)\n",
    "        for a2 in answerAids:\n",
    "            set2 = set(a2)\n",
    "            intersection = len(set1.intersection(set2))\n",
    "            score += intersection / math.exp(f)            \n",
    "    return score\n"
   ]
  },
  {
   "cell_type": "code",
   "execution_count": 9,
   "metadata": {},
   "outputs": [
    {
     "name": "stdout",
     "output_type": "stream",
     "text": [
      "{'A': '3.38335e-74%', 'B': '99.9255%', 'C': '1.35334e-74%'}\n",
      "{'A': '36.3636%', 'B': '18.1818%', 'C': '45.4545%'}\n",
      "{'A': '0%', 'B': '99.9926%', 'C': '4.30695e-152%'}\n",
      "{'A': '0%', 'B': '3.48887e-06%', 'C': '2.31952e-08%'}\n",
      "{'A': '98.0432%', 'B': '0%', 'C': '0%'}\n",
      "{'A': '2.93817e-87%', 'B': '1.68773e-195%', 'C': '1.04935e-88%'}\n",
      "{'A': '15.1485%', 'B': '7.57426%', 'C': '68.1684%'}\n",
      "{'A': '0.0113241%', 'B': '2.50628e-38%', 'C': '0%'}\n",
      "{'A': '99.98%', 'B': '5.09714e-09%', 'C': '4.5371e-217%'}\n",
      "{'A': '2.38027e-18%', 'B': '1.42816e-17%', 'C': '9.52107e-18%'}\n",
      "{'A': '7.78113e-12%', 'B': '1.08936e-10%', 'C': '1.55623e-11%'}\n",
      "{'A': '3.28001e-106%', 'B': '6.108e-45%', 'C': '4.92002e-106%'}\n",
      "{'A': '6.54284e-61%', 'B': '1.5496e-12%', 'C': '2.6852e-266%'}\n",
      "{'A': '0%', 'B': '0%', 'C': '1.03567e-84%'}\n",
      "{'A': '99.9913%', 'B': '0%', 'C': '0%'}\n",
      "{'A': '1.61237%', 'B': '0.201546%', 'C': '0.403092%'}\n",
      "{'A': '2.83283e-43%', 'B': '3.96597e-43%', 'C': '1.6997e-43%'}\n",
      "{'A': '0%', 'B': '0%', 'C': '0%'}\n",
      "{'A': '6.76931e-88%', 'B': '0.664822%', 'C': '99.3332%'}\n",
      "{'A': '0%', 'B': '99.9973%', 'C': '0%'}\n",
      "{'A': '3.16084e-53%', 'B': '3.16084e-53%', 'C': '2.05455e-52%'}\n",
      "{'A': '6.44529e-131%', 'B': '1.58491e-131%', 'C': '7.81887e-131%'}\n",
      "{'A': '0%', 'B': '0%', 'C': '96.0902%'}\n",
      "{'A': '2.61815e-158%', 'B': '2.0674e-158%', 'C': '2.0674e-158%'}\n",
      "{'A': '80.1504%', 'B': '19.8495%', 'C': '0%'}\n"
     ]
    }
   ],
   "source": [
    "myAnswer = []\n",
    "for idx, q in enumerate(qs):\n",
    "    # 將題目、選項都先進行斷詞\n",
    "    wordList2D = wsAndPos(list(q.values()))\n",
    "    \n",
    "    scoreList = {}\n",
    "    scoreSum = 0.000001\n",
    "    maxK = 'C' # 預設答案猜 C\n",
    "    maxV = 0\n",
    "    for k, words in zip(q.keys(), wordList2D):\n",
    "        if k == 'Question':\n",
    "            questionAid = findAidListByWordList(words)\n",
    "            questionWords = words\n",
    "        else:\n",
    "            answerAid = findAidListByWordList(words)\n",
    "            score = evaluate(questionAid, questionWords, answerAid)\n",
    "            scoreList[k] = score\n",
    "            scoreSum += score\n",
    "            if score > maxV:\n",
    "                maxK = k\n",
    "                maxV = score\n",
    "    myAnswer.append(maxK)\n",
    "    # normalize\n",
    "    for k, v in scoreList.items():\n",
    "        scoreList[k] = '%g%%' % (v/scoreSum*100,)\n",
    "\n",
    "    print(scoreList)\n"
   ]
  },
  {
   "cell_type": "code",
   "execution_count": 10,
   "metadata": {},
   "outputs": [
    {
     "data": {
      "text/plain": [
       "'[\"B\", \"C\", \"B\", \"B\", \"A\", \"A\", \"C\", \"A\", \"A\", \"B\", \"B\", \"B\", \"B\", \"C\", \"A\", \"A\", \"B\", \"C\", \"C\", \"B\", \"C\", \"C\", \"C\", \"A\", \"A\"]'"
      ]
     },
     "execution_count": 10,
     "metadata": {},
     "output_type": "execute_result"
    }
   ],
   "source": [
    "json.dumps(myAnswer)\n"
   ]
  },
  {
   "cell_type": "code",
   "execution_count": 11,
   "metadata": {},
   "outputs": [
    {
     "name": "stdout",
     "output_type": "stream",
     "text": [
      "24 / 25\n"
     ]
    }
   ],
   "source": [
    "same = 0\n",
    "exampleAnswer = [\"B\", \"C\", \"B\", \"B\", \"A\", \"A\", \"C\", \"A\", \"A\", \"B\", \"B\",\n",
    "                 \"B\", \"B\", \"C\", \"A\", \"A\", \"B\", \"B\", \"C\", \"B\", \"C\", \"C\", \"C\", \"A\", \"A\"]\n",
    "for i,j in zip(myAnswer, exampleAnswer):\n",
    "    if i == j:\n",
    "        same += 1\n",
    "print(same, \"/\", len(myAnswer))\n"
   ]
  }
 ],
 "metadata": {
  "interpreter": {
   "hash": "2db524e06e9f5f4ffedc911c917cb75e12dbc923643829bf417064a77eb14d37"
  },
  "kernelspec": {
   "display_name": "Python 3.8.0 64-bit",
   "language": "python",
   "name": "python3"
  },
  "language_info": {
   "codemirror_mode": {
    "name": "ipython",
    "version": 3
   },
   "file_extension": ".py",
   "mimetype": "text/x-python",
   "name": "python",
   "nbconvert_exporter": "python",
   "pygments_lexer": "ipython3",
   "version": "3.8.0"
  },
  "orig_nbformat": 4
 },
 "nbformat": 4,
 "nbformat_minor": 2
}
