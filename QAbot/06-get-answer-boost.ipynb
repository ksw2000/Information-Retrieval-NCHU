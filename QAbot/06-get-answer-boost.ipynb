{
 "cells": [
  {
   "cell_type": "markdown",
   "metadata": {},
   "source": [
    "本版本考慮詞頻"
   ]
  },
  {
   "cell_type": "code",
   "execution_count": 1,
   "metadata": {},
   "outputs": [],
   "source": [
    "import json\n",
    "from ckip_transformers.nlp import CkipWordSegmenter, CkipPosTagger\n",
    "import re\n"
   ]
  },
  {
   "cell_type": "code",
   "execution_count": 2,
   "metadata": {},
   "outputs": [],
   "source": [
    "# config\n",
    "\n",
    "question = './questions_example.json'\n",
    "reg = \"[\\s\\-，.。\\:：！!；;\\?？（）\\(\\)\\\"\\'《》〈〉．～—─\\=「」『』、”“·／\\#\\[\\]\\$,－]\"\n",
    "dbInvertedIndex = './convert-to-db/inverted-index.db'\n",
    "dbWordFrequency = './word-frequency/word-frequency.db'"
   ]
  },
  {
   "cell_type": "code",
   "execution_count": 3,
   "metadata": {},
   "outputs": [],
   "source": [
    "ws_driver = CkipWordSegmenter(level=1, device=0)\n",
    "pos_driver = CkipPosTagger(level=1, device=0)\n"
   ]
  },
  {
   "cell_type": "code",
   "execution_count": 4,
   "metadata": {},
   "outputs": [],
   "source": [
    "with open(question, encoding='utf8') as j:\n",
    "    qs = json.load(j)\n"
   ]
  },
  {
   "cell_type": "code",
   "execution_count": 5,
   "metadata": {},
   "outputs": [],
   "source": [
    "def wsAndPos(text): # text is string list\n",
    "    for i, _ in enumerate(text):\n",
    "        text[i] = re.sub(reg, \" \", text[i])\n",
    "\n",
    "    ws = ws_driver(text, show_progress=False)\n",
    "    pos = pos_driver(ws, show_progress=False)\n",
    "    resList = []\n",
    "\n",
    "    for w, p in zip(ws, pos):\n",
    "        res = []\n",
    "        for token_w, token_p in zip(w, p):\n",
    "            #if token_p[0] not in ['C', 'T', 'I', 'P', 'S', 'W', 'D']:\n",
    "            #    res.append(token_w)\n",
    "            if token_p[0] in ['N', 'F']:\n",
    "                res.append(token_w)\n",
    "\n",
    "        resList.append(res)\n",
    "    return resList\n"
   ]
  },
  {
   "cell_type": "code",
   "execution_count": 6,
   "metadata": {},
   "outputs": [],
   "source": [
    "import sqlite3\n",
    "\n",
    "conn = sqlite3.connect(dbInvertedIndex)\n",
    "cursor = conn.cursor()\n",
    "\n",
    "def findAidList(word):\n",
    "    sql = \"SELECT aids from mapping WHERE word = ?\"\n",
    "    res = cursor.execute(sql, (word,)).fetchone()\n",
    "    if res is None:\n",
    "        return []\n",
    "    else:\n",
    "        return res[0].split()\n",
    "\n",
    "conn2 = sqlite3.connect(dbWordFrequency)\n",
    "cursor2 = conn2.cursor()\n",
    "def getFrequency(word):\n",
    "    sql = \"SELECT num from frequency WHERE word = ?\"\n",
    "    res = cursor2.execute(sql, (word,)).fetchone()\n",
    "    return 0 if res is None else int(res[0])\n"
   ]
  },
  {
   "cell_type": "code",
   "execution_count": 7,
   "metadata": {},
   "outputs": [],
   "source": [
    "def findAidListByWordList(wordList):\n",
    "    ret = []\n",
    "    for word in wordList:\n",
    "        ret.append(findAidList(word))\n",
    "    return ret\n"
   ]
  },
  {
   "cell_type": "code",
   "execution_count": 8,
   "metadata": {},
   "outputs": [],
   "source": [
    "\n",
    "def evaluate(questionAids, questionWords, answerAids):\n",
    "    score = 0\n",
    "    for a1, w1 in zip(questionAids, questionWords):\n",
    "        for a2 in answerAids:\n",
    "            set1, set2 = set(a1), set(a2)\n",
    "            intersection = set1.intersection(set2)\n",
    "            score += len(intersection) / (getFrequency(w1) + 0.0001)\n",
    "    return score\n"
   ]
  },
  {
   "cell_type": "code",
   "execution_count": 9,
   "metadata": {},
   "outputs": [
    {
     "name": "stdout",
     "output_type": "stream",
     "text": [
      "{'A': '25.71453999284393%', 'B': '71.14825653770286%', 'C': '3.137175357403831%'}\n",
      "{'A': '29.924171230718517%', 'B': '26.078606071099447%', 'C': '43.99721960948568%'}\n",
      "{'A': '1.4757167429667821%', 'B': '47.03409861281021%', 'C': '51.4901441282786%'}\n",
      "{'A': '2.5648828985902408%', 'B': '56.20596626124744%', 'C': '41.228583541615436%'}\n",
      "{'A': '99.29437630188657%', 'B': '0.0013530705187736137%', 'C': '0.7041965133211014%'}\n",
      "{'A': '76.66798849321414%', 'B': '6.754797078038781%', 'C': '16.577164959168034%'}\n",
      "{'A': '40.93791546057415%', 'B': '9.9462061191511%', 'C': '49.11586384074981%'}\n",
      "{'A': '98.31867234529544%', 'B': '0.26135930626442166%', 'C': '1.4193732533893126%'}\n",
      "{'A': '77.47389160724985%', 'B': '18.8654902557756%', 'C': '3.6605705856958632%'}\n",
      "{'A': '11.206370936090527%', 'B': '28.150057231559618%', 'C': '60.643530837834035%'}\n",
      "{'A': '30.28276927323722%', 'B': '38.263703761053854%', 'C': '31.453470766283736%'}\n",
      "{'A': '2.6984363980708395%', 'B': '92.86810540473664%', 'C': '4.433373611614417%'}\n",
      "{'A': '13.311153627026377%', 'B': '79.15117431429486%', 'C': '7.537605572761735%'}\n",
      "{'A': '6.990866719372359%', 'B': '11.397069127281494%', 'C': '81.61053532980522%'}\n",
      "{'A': '99.9848066894329%', 'B': '0.007803459225929995%', 'C': '0.007338088397575013%'}\n",
      "{'A': '45.25672069317745%', 'B': '25.740496452381777%', 'C': '29.00275750803734%'}\n",
      "{'A': '28.826674459825142%', 'B': '56.24195196820801%', 'C': '14.931334630760634%'}\n",
      "{'A': '48.56833325808697%', 'B': '5.930499177626716%', 'C': '45.50116303837938%'}\n",
      "{'A': '6.373250036459373%', 'B': '21.160269533972638%', 'C': '72.4664022111525%'}\n",
      "{'A': '1.1218009785318188%', 'B': '98.1980066308597%', 'C': '0.6800369439751491%'}\n",
      "{'A': '33.38858824677812%', 'B': '32.024784231075735%', 'C': '34.58649093477818%'}\n",
      "{'A': '0.0%', 'B': '0.0%', 'C': '0.0%'}\n",
      "{'A': '0.44464362258585116%', 'B': '0.566716852915107%', 'C': '98.98847414798051%'}\n",
      "{'A': '50.151207643412334%', 'B': '25.165694584429716%', 'C': '24.6828752595561%'}\n",
      "{'A': '81.4101410691938%', 'B': '18.586902216498544%', 'C': '0.0029503959958916137%'}\n"
     ]
    }
   ],
   "source": [
    "myAnswer = []\n",
    "for idx, q in enumerate(qs):\n",
    "    # 將題目、選項都先進行斷詞\n",
    "    wordList2D = wsAndPos(list(q.values()))\n",
    "    \n",
    "    scoreList = {}\n",
    "    scoreSum = 0.000001\n",
    "    maxK = 'C' # 預設答案猜 C\n",
    "    maxV = 0\n",
    "    for k, words in zip(q.keys(), wordList2D):\n",
    "        if k == 'Question':\n",
    "            questionAid = findAidListByWordList(words)\n",
    "            questionWords = words\n",
    "        else:\n",
    "            answerAid = findAidListByWordList(words)\n",
    "            score = evaluate(questionAid, questionWords, answerAid)\n",
    "            scoreList[k] = score\n",
    "            scoreSum += score\n",
    "            if score > maxV:\n",
    "                maxK = k\n",
    "                maxV = score\n",
    "    myAnswer.append(maxK)\n",
    "    # normalize\n",
    "    for k, v in scoreList.items():\n",
    "        scoreList[k] = str(v/scoreSum*100) + '%'\n",
    "\n",
    "    print(scoreList)\n"
   ]
  },
  {
   "cell_type": "code",
   "execution_count": 10,
   "metadata": {},
   "outputs": [
    {
     "data": {
      "text/plain": [
       "'[\"B\", \"C\", \"C\", \"B\", \"A\", \"A\", \"C\", \"A\", \"A\", \"C\", \"B\", \"B\", \"B\", \"C\", \"A\", \"A\", \"B\", \"A\", \"C\", \"B\", \"C\", \"C\", \"C\", \"A\", \"A\"]'"
      ]
     },
     "execution_count": 10,
     "metadata": {},
     "output_type": "execute_result"
    }
   ],
   "source": [
    "json.dumps(myAnswer)\n"
   ]
  },
  {
   "cell_type": "code",
   "execution_count": 11,
   "metadata": {},
   "outputs": [
    {
     "name": "stdout",
     "output_type": "stream",
     "text": [
      "22 / 25\n"
     ]
    }
   ],
   "source": [
    "same = 0\n",
    "exampleAnswer = [\"B\", \"C\", \"B\", \"B\", \"A\", \"A\", \"C\", \"A\", \"A\", \"B\", \"B\",\n",
    "                 \"B\", \"B\", \"C\", \"A\", \"A\", \"B\", \"B\", \"C\", \"B\", \"C\", \"C\", \"C\", \"A\", \"A\"]\n",
    "for i,j in zip(myAnswer, exampleAnswer):\n",
    "    if i == j:\n",
    "        same += 1\n",
    "print(same, \"/\", len(myAnswer))\n"
   ]
  }
 ],
 "metadata": {
  "interpreter": {
   "hash": "2db524e06e9f5f4ffedc911c917cb75e12dbc923643829bf417064a77eb14d37"
  },
  "kernelspec": {
   "display_name": "Python 3.8.0 64-bit",
   "language": "python",
   "name": "python3"
  },
  "language_info": {
   "codemirror_mode": {
    "name": "ipython",
    "version": 3
   },
   "file_extension": ".py",
   "mimetype": "text/x-python",
   "name": "python",
   "nbconvert_exporter": "python",
   "pygments_lexer": "ipython3",
   "version": "3.8.0"
  },
  "orig_nbformat": 4
 },
 "nbformat": 4,
 "nbformat_minor": 2
}
