{
 "cells": [
  {
   "cell_type": "code",
   "execution_count": 1,
   "metadata": {},
   "outputs": [],
   "source": [
    "import json\n",
    "from ckip_transformers.nlp import CkipWordSegmenter, CkipPosTagger\n",
    "import re\n"
   ]
  },
  {
   "cell_type": "code",
   "execution_count": 2,
   "metadata": {},
   "outputs": [],
   "source": [
    "# config\n",
    "\n",
    "question = './questions_example.json'\n",
    "reg = \"[\\s\\-，.。\\:：！!；;\\?？（）\\(\\)\\\"\\'《》〈〉．～—─\\=「」『』、”“·／\\#\\[\\]\\$,－]\"\n",
    "db = './convert-to-db/inverted-index.db'"
   ]
  },
  {
   "cell_type": "code",
   "execution_count": 3,
   "metadata": {},
   "outputs": [],
   "source": [
    "ws_driver = CkipWordSegmenter(level=1, device=0)\n",
    "pos_driver = CkipPosTagger(level=1, device=0)\n"
   ]
  },
  {
   "cell_type": "code",
   "execution_count": 4,
   "metadata": {},
   "outputs": [],
   "source": [
    "with open(question, encoding='utf8') as j:\n",
    "    qs = json.load(j)\n"
   ]
  },
  {
   "cell_type": "code",
   "execution_count": 5,
   "metadata": {},
   "outputs": [],
   "source": [
    "def wsAndPos(text): # text is string list\n",
    "    for i, _ in enumerate(text):\n",
    "        text[i] = re.sub(reg, \" \", text[i])\n",
    "\n",
    "    ws = ws_driver(text, show_progress=False)\n",
    "    pos = pos_driver(ws, show_progress=False)\n",
    "    resList = []\n",
    "\n",
    "    for w, p in zip(ws, pos):\n",
    "        res = []\n",
    "        for token_w, token_p in zip(w, p):\n",
    "            #if token_p[0] not in ['C', 'T', 'I', 'P', 'S', 'W', 'D']:\n",
    "            #    res.append(token_w)\n",
    "            if token_p[0] in ['N', 'F']:\n",
    "                res.append(token_w)\n",
    "\n",
    "        resList.append(res)\n",
    "    return resList\n"
   ]
  },
  {
   "cell_type": "code",
   "execution_count": 6,
   "metadata": {},
   "outputs": [],
   "source": [
    "import sqlite3\n",
    "\n",
    "conn = sqlite3.connect(db)\n",
    "cursor = conn.cursor()\n",
    "\n",
    "def findAidList(word):\n",
    "    sql = \"SELECT aids from mapping WHERE word = ?\"\n",
    "    res = cursor.execute(sql, (word,)).fetchone()\n",
    "    if res is None:\n",
    "        return []\n",
    "    else:\n",
    "        return res[0].split()\n"
   ]
  },
  {
   "cell_type": "code",
   "execution_count": 7,
   "metadata": {},
   "outputs": [],
   "source": [
    "def findAidListByWordList(wordList):\n",
    "    ret = []\n",
    "    for word in wordList:\n",
    "        ret.append(findAidList(word))\n",
    "    return ret\n"
   ]
  },
  {
   "cell_type": "code",
   "execution_count": 8,
   "metadata": {},
   "outputs": [],
   "source": [
    "\n",
    "# list1: question aid list 2d\n",
    "# list2: candidate aid list 2d\n",
    "def evaluate(list1, list2):\n",
    "    score = 0\n",
    "    for l1 in list1:\n",
    "        for l2 in list2:\n",
    "            set1, set2 = set(l1), set(l2)\n",
    "            intersection = set1.intersection(set2)\n",
    "            score += len(intersection) / (len(set1) + 0.0001)\n",
    "            # Bad\n",
    "            # (1) jaccord\n",
    "            # union = set1.union(set2)\n",
    "            # score += len(intersection) / (len(union) + 0.0001)\n",
    "            # (2) only number of intersection\n",
    "            # score += len(intersection)\n",
    "    return score\n"
   ]
  },
  {
   "cell_type": "code",
   "execution_count": 9,
   "metadata": {},
   "outputs": [
    {
     "name": "stdout",
     "output_type": "stream",
     "text": [
      "{'A': '25.523869966777962%', 'B': '71.3412681077528%', 'C': '3.1348470161153252%'}\n",
      "{'A': '29.508317302482865%', 'B': '26.669432082061345%', 'C': '43.822249091716934%'}\n",
      "{'A': '1.5224073113202674%', 'B': '47.40579389643314%', 'C': '51.07177197621411%'}\n",
      "{'A': '3.0072101857141553%', 'B': '51.002859115224894%', 'C': '45.98954782907557%'}\n",
      "{'A': '99.16458713232801%', 'B': '0.0019363990524992741%', 'C': '0.8334276326087422%'}\n",
      "{'A': '76.55857174858066%', 'B': '6.890561771656453%', 'C': '16.55083510077561%'}\n",
      "{'A': '42.7242529040899%', 'B': '9.930161430618712%', 'C': '47.34557711708026%'}\n",
      "{'A': '98.5491387631167%', 'B': '0.22292581224648347%', 'C': '1.2276369675694268%'}\n",
      "{'A': '73.29794831595078%', 'B': '22.124892610345917%', 'C': '4.577128643760835%'}\n",
      "{'A': '11.71963070049473%', 'B': '30.71820265238065%', 'C': '57.562146059482785%'}\n",
      "{'A': '29.976113995883917%', 'B': '38.94334358501288%', 'C': '31.080504902359806%'}\n",
      "{'A': '2.4578659100612654%', 'B': '93.60308847874327%', 'C': '3.938998344415369%'}\n",
      "{'A': '10.493422139836603%', 'B': '82.63260521556745%', 'C': '6.8739446673680344%'}\n",
      "{'A': '7.0131251577902205%', 'B': '11.071771077793548%', 'C': '81.91429521743058%'}\n",
      "{'A': '99.97944290273385%', 'B': '0.010428078144903345%', 'C': '0.0100937078954686%'}\n",
      "{'A': '46.72221062342084%', 'B': '25.333581133131943%', 'C': '27.944194373551305%'}\n",
      "{'A': '27.61946977349258%', 'B': '57.826807022274%', 'C': '14.553702779238535%'}\n",
      "{'A': '48.58634561704769%', 'B': '5.773122971298692%', 'C': '45.64052906327692%'}\n",
      "{'A': '7.156929366048584%', 'B': '19.76665956936547%', 'C': '73.07636288441508%'}\n",
      "{'A': '1.4042362661149557%', 'B': '97.71818832104483%', 'C': '0.877443429977003%'}\n",
      "{'A': '33.482859683370584%', 'B': '32.033159777326034%', 'C': '34.48389632587881%'}\n",
      "{'A': '0.0%', 'B': '0.0%', 'C': '0.0%'}\n",
      "{'A': '0.40157068727246426%', 'B': '0.5878681897310377%', 'C': '99.01045926822081%'}\n",
      "{'A': '48.2403690931921%', 'B': '26.148334714301246%', 'C': '25.61111413620494%'}\n",
      "{'A': '80.78712232265896%', 'B': '19.209126446390083%', 'C': '0.003746878628400553%'}\n"
     ]
    }
   ],
   "source": [
    "myAnswer = []\n",
    "for idx, q in enumerate(qs):\n",
    "    # 將題目、選項都先進行斷詞\n",
    "    wordList2D = wsAndPos(list(q.values()))\n",
    "    \n",
    "    scoreList = {}\n",
    "    scoreSum = 0.000001\n",
    "    maxK = 'C' # 預設答案猜 C\n",
    "    maxV = 0\n",
    "    for k, words in zip(q.keys(), wordList2D):\n",
    "        if k == 'Question':\n",
    "            questionAid = findAidListByWordList(words)\n",
    "        else:\n",
    "            answerAid = findAidListByWordList(words)\n",
    "            score = evaluate(questionAid, answerAid)\n",
    "            scoreList[k] = score\n",
    "            scoreSum += score\n",
    "            if score > maxV:\n",
    "                maxK = k\n",
    "                maxV = score\n",
    "    myAnswer.append(maxK)\n",
    "    # normalize\n",
    "    for k, v in scoreList.items():\n",
    "        scoreList[k] = str(v/scoreSum*100) + '%'\n",
    "\n",
    "    print(scoreList)\n"
   ]
  },
  {
   "cell_type": "code",
   "execution_count": 10,
   "metadata": {},
   "outputs": [
    {
     "data": {
      "text/plain": [
       "'[\"B\", \"C\", \"C\", \"B\", \"A\", \"A\", \"C\", \"A\", \"A\", \"C\", \"B\", \"B\", \"B\", \"C\", \"A\", \"A\", \"B\", \"A\", \"C\", \"B\", \"C\", \"C\", \"C\", \"A\", \"A\"]'"
      ]
     },
     "execution_count": 10,
     "metadata": {},
     "output_type": "execute_result"
    }
   ],
   "source": [
    "json.dumps(myAnswer)\n"
   ]
  },
  {
   "cell_type": "code",
   "execution_count": 11,
   "metadata": {},
   "outputs": [
    {
     "name": "stdout",
     "output_type": "stream",
     "text": [
      "22 / 25\n"
     ]
    }
   ],
   "source": [
    "same = 0\n",
    "exampleAnswer = [\"B\", \"C\", \"B\", \"B\", \"A\", \"A\", \"C\", \"A\", \"A\", \"B\", \"B\",\n",
    "                 \"B\", \"B\", \"C\", \"A\", \"A\", \"B\", \"B\", \"C\", \"B\", \"C\", \"C\", \"C\", \"A\", \"A\"]\n",
    "for i,j in zip(myAnswer, exampleAnswer):\n",
    "    if i == j:\n",
    "        same += 1\n",
    "print(same, \"/\", len(myAnswer))\n"
   ]
  }
 ],
 "metadata": {
  "interpreter": {
   "hash": "2db524e06e9f5f4ffedc911c917cb75e12dbc923643829bf417064a77eb14d37"
  },
  "kernelspec": {
   "display_name": "Python 3.8.0 64-bit",
   "language": "python",
   "name": "python3"
  },
  "language_info": {
   "codemirror_mode": {
    "name": "ipython",
    "version": 3
   },
   "file_extension": ".py",
   "mimetype": "text/x-python",
   "name": "python",
   "nbconvert_exporter": "python",
   "pygments_lexer": "ipython3",
   "version": "3.8.0"
  },
  "orig_nbformat": 4
 },
 "nbformat": 4,
 "nbformat_minor": 2
}
