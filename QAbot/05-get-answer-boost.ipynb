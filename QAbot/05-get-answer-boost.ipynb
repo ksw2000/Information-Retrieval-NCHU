{
 "cells": [
  {
   "cell_type": "markdown",
   "metadata": {},
   "source": [
    "本版本考慮詞頻之影響，取消詞性的篩選，並透過自然指數的方式來調整權重"
   ]
  },
  {
   "cell_type": "code",
   "execution_count": 1,
   "metadata": {},
   "outputs": [],
   "source": [
    "import json\n",
    "from ckip_transformers.nlp import CkipWordSegmenter\n",
    "import re\n"
   ]
  },
  {
   "cell_type": "code",
   "execution_count": 2,
   "metadata": {},
   "outputs": [],
   "source": [
    "# config\n",
    "\n",
    "question = './questions_example.json'\n",
    "reg = \"[\\s\\-，.。\\:：！!；;\\?？（）\\(\\)\\\"\\'《》〈〉．～—─\\=「」『』、”“·／\\#\\[\\]\\$,－]\"\n",
    "db = './convert-to-db/inverted-index.db'"
   ]
  },
  {
   "cell_type": "code",
   "execution_count": 3,
   "metadata": {},
   "outputs": [],
   "source": [
    "ws_driver = CkipWordSegmenter(level=1, device=0)\n"
   ]
  },
  {
   "cell_type": "code",
   "execution_count": 4,
   "metadata": {},
   "outputs": [],
   "source": [
    "with open(question, encoding='utf8') as j:\n",
    "    qs = json.load(j)\n"
   ]
  },
  {
   "cell_type": "code",
   "execution_count": 5,
   "metadata": {},
   "outputs": [],
   "source": [
    "def wsAndPos(text): # text is string list\n",
    "    for i, _ in enumerate(text):\n",
    "        text[i] = re.sub(reg, \" \", text[i])\n",
    "    ws = ws_driver(text, show_progress=False)\n",
    "    return ws\n"
   ]
  },
  {
   "cell_type": "code",
   "execution_count": 6,
   "metadata": {},
   "outputs": [],
   "source": [
    "import sqlite3\n",
    "\n",
    "conn = sqlite3.connect(db)\n",
    "cursor = conn.cursor()\n",
    "\n",
    "def findAidList(word):\n",
    "    sql = \"SELECT aids from mapping WHERE word = ?\"\n",
    "    res = cursor.execute(sql, (word,)).fetchone()\n",
    "    if res is None:\n",
    "        return []\n",
    "    else:\n",
    "        return res[0].split()\n",
    "\n",
    "def getFrequency(word):\n",
    "    sql = \"SELECT num from mapping WHERE word = ?\"\n",
    "    res = cursor.execute(sql, (word,)).fetchone()\n",
    "    return 0 if res is None else int(res[0])\n"
   ]
  },
  {
   "cell_type": "code",
   "execution_count": 7,
   "metadata": {},
   "outputs": [],
   "source": [
    "def findAidListByWordList(wordList):\n",
    "    ret = []\n",
    "    for word in wordList:\n",
    "        ret.append(findAidList(word))\n",
    "    return ret\n"
   ]
  },
  {
   "cell_type": "code",
   "execution_count": 8,
   "metadata": {},
   "outputs": [],
   "source": [
    "import math\n",
    "\n",
    "# 自然指數最高可以到 710 次方\n",
    "threshold = 700\n",
    "\n",
    "def evaluate(questionAids, questionWords, answerAids):\n",
    "    score = 0\n",
    "    for a1, w1 in zip(questionAids, questionWords):\n",
    "        # 當 frequency 過大時 exponential 也算不出來因此在此把他欄截\n",
    "        # 透過此方式減少 intersection 計算量\n",
    "\n",
    "        f = getFrequency(w1)\n",
    "        if f > threshold:\n",
    "            continue\n",
    "        set1 = set(a1)\n",
    "        for a2 in answerAids:\n",
    "            set2 = set(a2)\n",
    "            intersection = len(set1.intersection(set2))\n",
    "            score += intersection / math.exp(f)            \n",
    "    return score\n"
   ]
  },
  {
   "cell_type": "code",
   "execution_count": 10,
   "metadata": {},
   "outputs": [
    {
     "name": "stdout",
     "output_type": "stream",
     "text": [
      "{'A': '5.49585e-34%', 'B': '100%', 'C': '1.2213e-34%'}\n",
      "{'A': '33.4672%', 'B': '16.9344%', 'C': '49.5984%'}\n",
      "{'A': '0%', 'B': '100%', 'C': '2.51313e-137%'}\n",
      "{'A': '6.42406e-203%', 'B': '57.8123%', 'C': '42.1877%'}\n",
      "{'A': '100%', 'B': '0%', 'C': '8.23193e-274%'}\n",
      "{'A': '96.5517%', 'B': '1.42253e-83%', 'C': '3.44828%'}\n",
      "{'A': '15.3846%', 'B': '7.69231%', 'C': '76.9231%'}\n",
      "{'A': '100%', 'B': '7.73174e-15%', 'C': '0%'}\n",
      "{'A': '100%', 'B': '2.7835e-07%', 'C': '1.9854e-168%'}\n",
      "{'A': '9.09091%', 'B': '54.5455%', 'C': '36.3636%'}\n",
      "{'A': '5.88235%', 'B': '82.3529%', 'C': '11.7647%'}\n",
      "{'A': '2.7842e-38%', 'B': '100%', 'C': '4.17631e-38%'}\n",
      "{'A': '8.05335e-26%', 'B': '100%', 'C': '1.62874e-68%'}\n",
      "{'A': '0%', 'B': '0%', 'C': '100%'}\n",
      "{'A': '100%', 'B': '0%', 'C': '0%'}\n",
      "{'A': '72.7273%', 'B': '9.09091%', 'C': '18.1818%'}\n",
      "{'A': '33.3333%', 'B': '46.6667%', 'C': '20%'}\n",
      "{'A': '0%', 'B': '0%', 'C': '0%'}\n",
      "{'A': '7.53347e-52%', 'B': '0.664835%', 'C': '99.3352%'}\n",
      "{'A': '0%', 'B': '100%', 'C': '0%'}\n",
      "{'A': '11.7647%', 'B': '11.7647%', 'C': '76.4706%'}\n",
      "{'A': '40.6667%', 'B': '10%', 'C': '49.3333%'}\n",
      "{'A': '0%', 'B': '0%', 'C': '100%'}\n",
      "{'A': '0.727231%', 'B': '0.574254%', 'C': '0.574254%'}\n",
      "{'A': '78.5039%', 'B': '21.4961%', 'C': '0%'}\n"
     ]
    }
   ],
   "source": [
    "myAnswer = []\n",
    "for idx, q in enumerate(qs):\n",
    "    # 將題目、選項都先進行斷詞\n",
    "    wordList2D = wsAndPos(list(q.values()))\n",
    "    \n",
    "    scoreList = {}\n",
    "    scoreSum = 1e-140\n",
    "    maxK = 'C' # 預設答案猜 C\n",
    "    maxV = 0\n",
    "    for k, words in zip(q.keys(), wordList2D):\n",
    "        if k == 'Question':\n",
    "            questionAid = findAidListByWordList(words)\n",
    "            questionWords = words\n",
    "        else:\n",
    "            answerAid = findAidListByWordList(words)\n",
    "            score = evaluate(questionAid, questionWords, answerAid)\n",
    "            scoreList[k] = score\n",
    "            scoreSum += score\n",
    "            if score > maxV:\n",
    "                maxK = k\n",
    "                maxV = score\n",
    "    myAnswer.append(maxK)\n",
    "    # normalize\n",
    "    for k, v in scoreList.items():\n",
    "        scoreList[k] = '%g%%' % (v/scoreSum*100,)\n",
    "\n",
    "    print(scoreList)\n"
   ]
  },
  {
   "cell_type": "code",
   "execution_count": 11,
   "metadata": {},
   "outputs": [
    {
     "data": {
      "text/plain": [
       "'[\"B\", \"C\", \"B\", \"B\", \"A\", \"A\", \"C\", \"A\", \"A\", \"B\", \"B\", \"B\", \"B\", \"C\", \"A\", \"A\", \"B\", \"C\", \"C\", \"B\", \"C\", \"C\", \"C\", \"A\", \"A\"]'"
      ]
     },
     "execution_count": 11,
     "metadata": {},
     "output_type": "execute_result"
    }
   ],
   "source": [
    "json.dumps(myAnswer)\n"
   ]
  },
  {
   "cell_type": "code",
   "execution_count": 12,
   "metadata": {},
   "outputs": [
    {
     "name": "stdout",
     "output_type": "stream",
     "text": [
      "24 / 25\n"
     ]
    }
   ],
   "source": [
    "same = 0\n",
    "exampleAnswer = [\"B\", \"C\", \"B\", \"B\", \"A\", \"A\", \"C\", \"A\", \"A\", \"B\", \"B\",\n",
    "                 \"B\", \"B\", \"C\", \"A\", \"A\", \"B\", \"B\", \"C\", \"B\", \"C\", \"C\", \"C\", \"A\", \"A\"]\n",
    "for i,j in zip(myAnswer, exampleAnswer):\n",
    "    if i == j:\n",
    "        same += 1\n",
    "print(same, \"/\", len(myAnswer))\n"
   ]
  }
 ],
 "metadata": {
  "interpreter": {
   "hash": "2db524e06e9f5f4ffedc911c917cb75e12dbc923643829bf417064a77eb14d37"
  },
  "kernelspec": {
   "display_name": "Python 3.8.0 64-bit",
   "language": "python",
   "name": "python3"
  },
  "language_info": {
   "codemirror_mode": {
    "name": "ipython",
    "version": 3
   },
   "file_extension": ".py",
   "mimetype": "text/x-python",
   "name": "python",
   "nbconvert_exporter": "python",
   "pygments_lexer": "ipython3",
   "version": "3.8.0"
  },
  "orig_nbformat": 4
 },
 "nbformat": 4,
 "nbformat_minor": 2
}
