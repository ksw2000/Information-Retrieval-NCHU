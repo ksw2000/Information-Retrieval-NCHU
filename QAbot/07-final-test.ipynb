{
 "cells": [
  {
   "cell_type": "markdown",
   "metadata": {},
   "source": [
    "最終考題測試，感覺效果不是很理想，最後仍然輸給 Google 爬蟲大法，覺得是原本的訓練集就很爛導致"
   ]
  },
  {
   "cell_type": "code",
   "execution_count": 1,
   "metadata": {},
   "outputs": [],
   "source": [
    "import json\n",
    "from ckip_transformers.nlp import CkipWordSegmenter\n",
    "import re\n"
   ]
  },
  {
   "cell_type": "code",
   "execution_count": 2,
   "metadata": {},
   "outputs": [],
   "source": [
    "# config\n",
    "\n",
    "question = './questions_final_test.json'\n",
    "reg = \"[\\s\\-，.。\\:：！!；;\\?？（）\\(\\)\\\"\\'《》〈〉．～—─\\=「」『』、”“·／\\#\\[\\]\\$,－]\"\n",
    "db = './convert-to-db/inverted-index.db'"
   ]
  },
  {
   "cell_type": "code",
   "execution_count": 3,
   "metadata": {},
   "outputs": [],
   "source": [
    "ws_driver = CkipWordSegmenter(level=1, device=0)\n"
   ]
  },
  {
   "cell_type": "code",
   "execution_count": 4,
   "metadata": {},
   "outputs": [],
   "source": [
    "with open(question, encoding='utf8') as j:\n",
    "    qs = json.load(j)\n"
   ]
  },
  {
   "cell_type": "code",
   "execution_count": 5,
   "metadata": {},
   "outputs": [],
   "source": [
    "def wsAndPos(text): # text is string list\n",
    "    for i, _ in enumerate(text):\n",
    "        text[i] = re.sub(reg, \" \", text[i])\n",
    "    ws = ws_driver(text, show_progress=False)\n",
    "    return ws\n"
   ]
  },
  {
   "cell_type": "code",
   "execution_count": 6,
   "metadata": {},
   "outputs": [],
   "source": [
    "import sqlite3\n",
    "\n",
    "conn = sqlite3.connect(db)\n",
    "cursor = conn.cursor()\n",
    "\n",
    "def findAidList(word):\n",
    "    sql = \"SELECT aids from mapping WHERE word = ?\"\n",
    "    res = cursor.execute(sql, (word,)).fetchone()\n",
    "    if res is None:\n",
    "        return []\n",
    "    else:\n",
    "        return res[0].split()\n",
    "\n",
    "def getFrequency(word):\n",
    "    sql = \"SELECT num from mapping WHERE word = ?\"\n",
    "    res = cursor.execute(sql, (word,)).fetchone()\n",
    "    return 0 if res is None else int(res[0])\n"
   ]
  },
  {
   "cell_type": "code",
   "execution_count": 7,
   "metadata": {},
   "outputs": [],
   "source": [
    "def findAidListByWordList(wordList):\n",
    "    ret = []\n",
    "    for word in wordList:\n",
    "        ret.append(findAidList(word))\n",
    "    return ret\n"
   ]
  },
  {
   "cell_type": "code",
   "execution_count": 8,
   "metadata": {},
   "outputs": [],
   "source": [
    "import math\n",
    "\n",
    "# 自然指數最高可以到 710 次方\n",
    "threshold = 700\n",
    "\n",
    "def evaluate(questionAids, questionWords, answerAids):\n",
    "    score = 0\n",
    "    for a1, w1 in zip(questionAids, questionWords):\n",
    "        # 當 frequency 過大時 exponential 也算不出來因此在此把他欄截\n",
    "        # 透過此方式減少 intersection 計算量\n",
    "\n",
    "        f = getFrequency(w1)\n",
    "        if f > threshold:\n",
    "            continue\n",
    "        set1 = set(a1)\n",
    "        for a2 in answerAids:\n",
    "            set2 = set(a2)\n",
    "            intersection = len(set1.intersection(set2))\n",
    "            score += intersection / math.exp(f)            \n",
    "    return score\n"
   ]
  },
  {
   "cell_type": "code",
   "execution_count": 9,
   "metadata": {},
   "outputs": [],
   "source": [
    "myAnswer = []\n",
    "for idx, q in enumerate(qs):\n",
    "    # 將題目、選項都先進行斷詞\n",
    "    wordList2D = wsAndPos(list(q.values()))\n",
    "    \n",
    "    scoreList = {}\n",
    "    scoreSum = 1e-140\n",
    "    maxK = 'C' # 預設答案猜 C\n",
    "    maxV = 0\n",
    "    for k, words in zip(q.keys(), wordList2D):\n",
    "        if k == 'Question':\n",
    "            questionAid = findAidListByWordList(words)\n",
    "            questionWords = words\n",
    "        else:\n",
    "            answerAid = findAidListByWordList(words)\n",
    "            score = evaluate(questionAid, questionWords, answerAid)\n",
    "            scoreList[k] = score\n",
    "            scoreSum += score\n",
    "            if score > maxV:\n",
    "                maxK = k\n",
    "                maxV = score\n",
    "    myAnswer.append(maxK)\n",
    "    # normalize\n",
    "    for k, v in scoreList.items():\n",
    "        scoreList[k] = '%g%%' % (v/scoreSum*100,)\n"
   ]
  },
  {
   "cell_type": "code",
   "execution_count": 10,
   "metadata": {},
   "outputs": [
    {
     "data": {
      "text/plain": [
       "'[\"A\", \"B\", \"B\", \"C\", \"A\", \"C\", \"A\", \"B\", \"B\", \"A\", \"B\", \"B\", \"B\", \"A\", \"B\", \"C\", \"B\", \"C\", \"C\", \"C\", \"C\", \"C\", \"C\", \"A\", \"C\", \"C\", \"C\", \"B\", \"A\", \"B\", \"A\", \"C\", \"A\", \"B\", \"A\", \"A\", \"C\", \"C\", \"C\", \"B\", \"C\", \"B\", \"A\", \"C\", \"A\", \"C\", \"C\", \"A\", \"C\", \"C\", \"B\", \"B\", \"C\", \"A\", \"C\", \"C\", \"C\", \"C\", \"A\", \"C\", \"B\", \"C\", \"C\", \"B\", \"A\", \"A\", \"C\", \"A\", \"B\", \"A\", \"A\", \"A\", \"C\", \"C\", \"C\", \"C\", \"B\", \"C\", \"C\", \"A\", \"A\", \"C\", \"C\", \"B\", \"B\", \"C\", \"A\", \"C\", \"C\", \"B\", \"B\", \"A\", \"C\", \"B\", \"C\", \"C\", \"C\", \"C\", \"B\", \"B\", \"A\", \"A\", \"B\", \"B\", \"A\", \"C\", \"B\", \"A\", \"C\", \"B\", \"C\", \"C\", \"A\", \"A\", \"C\", \"C\", \"C\", \"B\", \"A\", \"B\", \"C\", \"B\", \"B\", \"B\", \"B\", \"C\", \"C\", \"C\", \"B\", \"B\", \"A\", \"C\", \"B\", \"A\", \"A\", \"B\", \"C\", \"B\", \"C\", \"B\", \"C\", \"A\", \"C\", \"C\", \"A\", \"B\", \"C\", \"A\", \"B\", \"C\", \"B\", \"A\", \"A\", \"A\", \"C\", \"C\", \"A\", \"C\", \"B\", \"C\", \"B\", \"C\", \"C\", \"B\", \"A\", \"C\", \"C\", \"C\", \"A\", \"A\", \"A\", \"C\", \"C\", \"A\", \"B\", \"B\", \"C\", \"C\", \"C\", \"A\", \"C\", \"C\", \"C\", \"A\", \"A\", \"C\", \"B\", \"C\", \"B\", \"A\", \"C\", \"C\", \"A\", \"A\", \"B\", \"B\", \"C\", \"C\", \"A\", \"B\"]'"
      ]
     },
     "execution_count": 10,
     "metadata": {},
     "output_type": "execute_result"
    }
   ],
   "source": [
    "json.dumps(myAnswer)\n"
   ]
  },
  {
   "cell_type": "code",
   "execution_count": 11,
   "metadata": {},
   "outputs": [
    {
     "name": "stdout",
     "output_type": "stream",
     "text": [
      "119 / 200\n"
     ]
    }
   ],
   "source": [
    "same = 0\n",
    "answer = [\"A\", \"C\", \"B\", \"B\", \"C\", \"B\", \"A\", \"B\", \"B\", \"A\", \n",
    "          \"C\", \"B\", \"B\", \"A\", \"C\", \"A\", \"B\", \"C\", \"C\", \"B\", \n",
    "          \"A\", \"C\", \"C\", \"A\", \"B\", \"C\", \"A\", \"B\", \"A\", \"A\", \n",
    "          \"B\", \"A\", \"B\", \"B\", \"C\", \"A\", \"B\", \"C\", \"B\", \"A\", \n",
    "          \"A\", \"B\", \"B\", \"C\", \"A\", \"B\", \"B\", \"A\", \"C\", \"C\", \n",
    "          \"C\", \"B\", \"C\", \"A\", \"B\", \"C\", \"C\", \"A\", \"A\", \"C\", \n",
    "          \"A\", \"C\", \"B\", \"A\", \"A\", \"C\", \"C\", \"A\", \"B\", \"A\", \n",
    "          \"C\", \"A\", \"B\", \"A\", \"B\", \"C\", \"B\", \"B\", \"C\", \"B\", \n",
    "          \"C\", \"C\", \"B\", \"B\", \"C\", \"A\", \"C\", \"B\", \"A\", \"B\", \n",
    "          \"B\", \"A\", \"C\", \"B\", \"C\", \"C\", \"C\", \"A\", \"B\", \"B\",\n",
    "          \"A\", \"A\", \"B\", \"C\", \"A\", \"C\", \"B\", \"C\", \"A\", \"C\", \n",
    "          \"C\", \"C\", \"A\", \"B\", \"C\", \"A\", \"C\", \"B\", \"A\", \"B\", \n",
    "          \"C\", \"B\", \"B\", \"B\", \"B\", \"A\", \"B\", \"C\", \"C\", \"B\", \n",
    "          \"A\", \"C\", \"C\", \"B\", \"A\", \"C\", \"A\", \"A\", \"C\", \"B\", \n",
    "          \"C\", \"A\", \"C\", \"A\", \"B\", \"A\", \"C\", \"A\", \"B\", \"C\", \n",
    "          \"C\", \"A\", \"B\", \"A\", \"C\", \"C\", \"A\", \"C\", \"B\", \"C\", \n",
    "          \"B\", \"C\", \"A\", \"C\", \"C\", \"C\", \"B\", \"B\", \"A\", \"B\", \n",
    "          \"A\", \"A\", \"A\", \"A\", \"A\", \"B\", \"C\", \"C\", \"B\", \"A\", \n",
    "          \"A\", \"C\", \"A\", \"A\", \"A\", \"C\", \"B\", \"C\", \"A\", \"B\", \n",
    "          \"C\", \"A\", \"B\", \"B\", \"B\", \"B\", \"B\", \"C\", \"A\", \"B\"]\n",
    "for i,j in zip(myAnswer, answer):\n",
    "    if i == j:\n",
    "        same += 1\n",
    "print(same, \"/\", len(myAnswer))\n"
   ]
  }
 ],
 "metadata": {
  "interpreter": {
   "hash": "2db524e06e9f5f4ffedc911c917cb75e12dbc923643829bf417064a77eb14d37"
  },
  "kernelspec": {
   "display_name": "Python 3.8.0 64-bit",
   "language": "python",
   "name": "python3"
  },
  "language_info": {
   "codemirror_mode": {
    "name": "ipython",
    "version": 3
   },
   "file_extension": ".py",
   "mimetype": "text/x-python",
   "name": "python",
   "nbconvert_exporter": "python",
   "pygments_lexer": "ipython3",
   "version": "3.8.0"
  },
  "orig_nbformat": 4
 },
 "nbformat": 4,
 "nbformat_minor": 2
}
