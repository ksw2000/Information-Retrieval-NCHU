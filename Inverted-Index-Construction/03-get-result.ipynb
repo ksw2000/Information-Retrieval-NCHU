{
 "cells": [
  {
   "cell_type": "markdown",
   "metadata": {},
   "source": [
    "# Get Result from Inverted-Index Table\n",
    "\n",
    "1. 將關鍵字先做文字分割\n",
    "2. 於資料庫的 inverted_table 表做交集查找\n",
    "3. 由於交集出來的關鍵字可能位置不相鄰，因此再透過資料庫的 data 表查找一次"
   ]
  },
  {
   "cell_type": "code",
   "execution_count": 1,
   "metadata": {},
   "outputs": [],
   "source": [
    "keyword_answer = [\n",
    "    (\"人心惶惶\", [13958, 21027, 27575, 34876, 37680,\n",
    "              38208, 38754, 45590, 47095, 49915]),\n",
    "    (\"縱火犯\", [13958, 37537]),\n",
    "    (\"印尼羽毛球\", [13960, 13974, 17725, 18516, 21413, 26119]),\n",
    "    (\"生長激素\", [13961, 27962]),\n",
    "    (\"胰高血糖素\", [13961, 19650, 21408])\n",
    "]\n"
   ]
  },
  {
   "cell_type": "code",
   "execution_count": 2,
   "metadata": {},
   "outputs": [
    {
     "name": "stdout",
     "output_type": "stream",
     "text": [
      "['人心惶惶', '縱火犯', '印尼羽毛球', '生長激素', '胰高血糖素']\n"
     ]
    }
   ],
   "source": [
    "keywords = []\n",
    "answers = []\n",
    "for ka in keyword_answer:\n",
    "    keywords.append(ka[0])\n",
    "    answers.append(ka[1])\n",
    "print(keywords)"
   ]
  },
  {
   "cell_type": "code",
   "execution_count": 3,
   "metadata": {},
   "outputs": [
    {
     "name": "stderr",
     "output_type": "stream",
     "text": [
      "C:\\Python38\\lib\\site-packages\\keras\\layers\\legacy_rnn\\rnn_cell_impl.py:901: UserWarning: `tf.nn.rnn_cell.LSTMCell` is deprecated and will be removed in a future version. This class is equivalent as `tf.keras.layers.LSTMCell`, and will be replaced by that in Tensorflow 2.0.\n",
      "  warnings.warn(\"`tf.nn.rnn_cell.LSTMCell` is deprecated and will be \"\n",
      "C:\\Python38\\lib\\site-packages\\keras\\engine\\base_layer_v1.py:1684: UserWarning: `layer.add_variable` is deprecated and will be removed in a future version. Please use `layer.add_weight` method instead.\n",
      "  warnings.warn('`layer.add_variable` is deprecated and '\n"
     ]
    },
    {
     "name": "stdout",
     "output_type": "stream",
     "text": [
      "[['人心惶惶'], ['縱火犯'], ['印尼', '羽毛球'], ['生長', '激素'], ['胰', '高血糖素']]\n"
     ]
    }
   ],
   "source": [
    "from ckiptagger import data_utils, WS\n",
    "\n",
    "# Download models\n",
    "#data_utils.download_data_gdown(\"./\")\n",
    "\n",
    "ws = WS(\"./data\")\n",
    "keywords = ws(keywords, sentence_segmentation=False)\n",
    "\n",
    "print(keywords)\n"
   ]
  },
  {
   "cell_type": "code",
   "execution_count": 22,
   "metadata": {},
   "outputs": [
    {
     "name": "stdout",
     "output_type": "stream",
     "text": [
      "人心惶惶 [13958, 21027, 27575, 34876, 37680, 38208, 38754, 45590, 47095, 49915]\n",
      "縱火犯 [13958, 37537]\n",
      "印尼羽毛球 [13960, 13974, 17725, 18516, 21413, 26119]\n",
      "生長激素 [13961, 27962]\n",
      "胰高血糖素 [13961]\n"
     ]
    }
   ],
   "source": [
    "import sqlite3\n",
    "database = './table.db'\n",
    "conn = sqlite3.connect(database)\n",
    "cursor = conn.cursor()\n",
    "\n",
    "# 資料庫搜尋時必尋處理連續性問題\n",
    "# 因為可能出現文字分割後關鍵字前後不連續的問題\n",
    "# 另外，由於老師給的答案是 index_id 不是 article_id 所以回傳 index_id\n",
    "\n",
    "my_answers = []\n",
    "for key in keywords:\n",
    "    like = '%%%s%%' % (''.join(key))\n",
    "    sql = 'SELECT aid FROM inverted_table WHERE term=? '\n",
    "    if len(key) > 1:\n",
    "        for i in range(len(key) - 1):\n",
    "            sql += 'INTERSECT SELECT aid FROM inverted_table WHERE term=? '\n",
    "    sql = \"\"\"\n",
    "        SELECT d.index_id FROM (\"\"\" + sql + \"\"\") as a, data as d\n",
    "        WHERE (d.articles like ? or d.title like ?) and a.aid = d.aid \n",
    "    \"\"\"\n",
    "    #print(sql)\n",
    "    rows = cursor.execute(sql, tuple(key)+(like, like))\n",
    "    res = rows.fetchall()\n",
    "\n",
    "    print(''.join(key), [r[0] for r in res])\n",
    "    my_answers.append([r[0] for r in res])\n"
   ]
  },
  {
   "cell_type": "markdown",
   "metadata": {},
   "source": [
    "# Check Answer"
   ]
  },
  {
   "cell_type": "code",
   "execution_count": 21,
   "metadata": {},
   "outputs": [
    {
     "name": "stdout",
     "output_type": "stream",
     "text": [
      "人心惶惶 1.0\n",
      "縱火犯 1.0\n",
      "印尼羽毛球 1.0\n",
      "生長激素 1.0\n",
      "胰高血糖素 0.3333333333333333\n"
     ]
    }
   ],
   "source": [
    "def jacacard(list1, list2):\n",
    "    list1, list2 = sorted(list1), sorted(list2)\n",
    "    i, j = 0, 0\n",
    "    intersection = 0\n",
    "    union = 0\n",
    "    while i < len(list1) and j < len(list2):\n",
    "        if list1[i] == list2[i]:\n",
    "            intersection += 1\n",
    "            union += 1\n",
    "            i += 1\n",
    "            j += 1\n",
    "        elif list1[i] < list2[i]:\n",
    "            list1[i] += 1\n",
    "            union += 1\n",
    "        elif list1[i] > list2[i]:\n",
    "            list2[i] += 1\n",
    "            union += 1\n",
    "    if i < len(list1):\n",
    "        union += len(list1) - i\n",
    "    if j < len(list2):\n",
    "        union += len(list2) - i\n",
    "    return intersection / union\n",
    "\n",
    "for i in range(len(keyword_answer)):\n",
    "    print(keyword_answer[i][0], jacacard(keyword_answer[i][1], my_answers[i]))\n"
   ]
  }
 ],
 "metadata": {
  "interpreter": {
   "hash": "2db524e06e9f5f4ffedc911c917cb75e12dbc923643829bf417064a77eb14d37"
  },
  "kernelspec": {
   "display_name": "Python 3.8.0 64-bit",
   "language": "python",
   "name": "python3"
  },
  "language_info": {
   "codemirror_mode": {
    "name": "ipython",
    "version": 3
   },
   "file_extension": ".py",
   "mimetype": "text/x-python",
   "name": "python",
   "nbconvert_exporter": "python",
   "pygments_lexer": "ipython3",
   "version": "3.8.0"
  },
  "orig_nbformat": 4
 },
 "nbformat": 4,
 "nbformat_minor": 2
}
