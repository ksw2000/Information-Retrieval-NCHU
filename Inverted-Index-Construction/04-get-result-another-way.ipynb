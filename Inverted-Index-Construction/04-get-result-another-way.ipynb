{
 "cells": [
  {
   "cell_type": "markdown",
   "metadata": {},
   "source": [
    "# Get Result from Database without Word Segmentation\n",
    "\n",
    "經過測試，當有專有名詞時，直接從 database 抓的效果不比文字分割差"
   ]
  },
  {
   "cell_type": "code",
   "execution_count": 1,
   "metadata": {},
   "outputs": [],
   "source": [
    "keyword_answer = [\n",
    "    (\"人心惶惶\", [13958, 21027, 27575, 34876, 37680,\n",
    "              38208, 38754, 45590, 47095, 49915]),\n",
    "    (\"縱火犯\", [13958, 37537]),\n",
    "    (\"印尼羽毛球\", [13960, 13974, 17725, 18516, 21413, 26119]),\n",
    "    (\"生長激素\", [13961, 27962]),\n",
    "    (\"胰高血糖素\", [13961, 19650, 21408])\n",
    "]\n"
   ]
  },
  {
   "cell_type": "code",
   "execution_count": 2,
   "metadata": {},
   "outputs": [
    {
     "name": "stdout",
     "output_type": "stream",
     "text": [
      "['人心惶惶', '縱火犯', '印尼羽毛球', '生長激素', '胰高血糖素']\n"
     ]
    }
   ],
   "source": [
    "keywords = []\n",
    "answers = []\n",
    "for ka in keyword_answer:\n",
    "    keywords.append(ka[0])\n",
    "    answers.append(ka[1])\n",
    "print(keywords)\n"
   ]
  },
  {
   "cell_type": "code",
   "execution_count": 3,
   "metadata": {},
   "outputs": [
    {
     "name": "stdout",
     "output_type": "stream",
     "text": [
      "[[13958, 21027, 27575, 34876, 37680, 38208, 38754, 45590, 47095, 49915], [13958, 37537], [13960, 13974, 17725, 18516, 21413, 26119], [13961, 27962], [13961, 19650, 21408]]\n"
     ]
    }
   ],
   "source": [
    "import sqlite3\n",
    "database = './table.db'\n",
    "conn = sqlite3.connect(database)\n",
    "cursor = conn.cursor()\n",
    "\n",
    "my_answers = []\n",
    "for k in keywords:\n",
    "    row = cursor.execute('SELECT index_id FROM data where articles like ?', ('%'+k+'%',))\n",
    "    res = row.fetchall()\n",
    "    my_answers.append([r[0] for r in res])\n",
    "print(my_answers)\n"
   ]
  },
  {
   "cell_type": "code",
   "execution_count": 4,
   "metadata": {},
   "outputs": [
    {
     "name": "stdout",
     "output_type": "stream",
     "text": [
      "人心惶惶 1.0\n",
      "縱火犯 1.0\n",
      "印尼羽毛球 1.0\n",
      "生長激素 1.0\n",
      "胰高血糖素 1.0\n"
     ]
    }
   ],
   "source": [
    "def jacacard(list1, list2):\n",
    "    list1, list2 = sorted(list1), sorted(list2)\n",
    "    i, j = 0, 0\n",
    "    intersection = 0\n",
    "    union = 0\n",
    "    while i < len(list1) and j < len(list2):\n",
    "        if list1[i] == list2[i]:\n",
    "            intersection += 1\n",
    "            union += 1\n",
    "            i += 1\n",
    "            j += 1\n",
    "        elif list1[i] < list2[i]:\n",
    "            list1[i] += 1\n",
    "            union += 1\n",
    "        elif list1[i] > list2[i]:\n",
    "            list2[i] += 1\n",
    "            union += 1\n",
    "    if i < len(list1):\n",
    "        union += len(list1) - i\n",
    "    if j < len(list2):\n",
    "        union += len(list2) - i\n",
    "    return intersection / union\n",
    "\n",
    "\n",
    "for i in range(len(keyword_answer)):\n",
    "    print(keyword_answer[i][0], jacacard(keyword_answer[i][1], my_answers[i]))\n"
   ]
  }
 ],
 "metadata": {
  "interpreter": {
   "hash": "2db524e06e9f5f4ffedc911c917cb75e12dbc923643829bf417064a77eb14d37"
  },
  "kernelspec": {
   "display_name": "Python 3.8.0 64-bit",
   "language": "python",
   "name": "python3"
  },
  "language_info": {
   "codemirror_mode": {
    "name": "ipython",
    "version": 3
   },
   "file_extension": ".py",
   "mimetype": "text/x-python",
   "name": "python",
   "nbconvert_exporter": "python",
   "pygments_lexer": "ipython3",
   "version": "3.8.0"
  },
  "orig_nbformat": 4
 },
 "nbformat": 4,
 "nbformat_minor": 2
}
