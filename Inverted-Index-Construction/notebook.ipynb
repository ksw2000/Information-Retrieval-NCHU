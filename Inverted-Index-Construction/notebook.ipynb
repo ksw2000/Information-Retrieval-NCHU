{
 "cells": [
  {
   "cell_type": "markdown",
   "metadata": {},
   "source": [
    "# Download dependencies"
   ]
  },
  {
   "cell_type": "code",
   "execution_count": null,
   "metadata": {},
   "outputs": [],
   "source": [
    "#https://github.com/ckiplab/ckiptagger/wiki/Chinese-README\n",
    "\n",
    "from ckiptagger import data_utils, construct_dictionary, WS, POS, NER\n",
    "\n",
    "# 下載模型\n",
    "data_utils.download_data_gdown(\"./\")\n",
    "\n",
    "ws = WS(\"./data\")"
   ]
  },
  {
   "cell_type": "markdown",
   "metadata": {},
   "source": [
    "# Read Data"
   ]
  },
  {
   "cell_type": "code",
   "execution_count": null,
   "metadata": {},
   "outputs": [],
   "source": [
    "import json\n",
    "\n",
    "with open('./wiki_2021_10_05_50000.json', 'r', encoding=\"utf-8\") as f:\n",
    "    data = json.load(f)\n",
    "\n",
    "print(data[0])\n"
   ]
  },
  {
   "cell_type": "code",
   "execution_count": null,
   "metadata": {},
   "outputs": [],
   "source": [
    "# Preview\n",
    "test_text = data[0]['articles']\n",
    "ws([test_text])\n"
   ]
  },
  {
   "cell_type": "markdown",
   "metadata": {},
   "source": [
    "# Config"
   ]
  },
  {
   "cell_type": "code",
   "execution_count": null,
   "metadata": {},
   "outputs": [],
   "source": [
    "import sqlite3\n",
    "\n",
    "database = './table2.db'\n",
    "conn = sqlite3.connect(database)\n",
    "cursor = conn.cursor()\n",
    "\n",
    "delimiter_set = {\",\", \"，\",\n",
    "                 \".\", \"。\",\n",
    "                 \":\", \"：\",\n",
    "                 \"！\", \"!\",\n",
    "                 \"；\", \";\",\n",
    "                 \"?\", \"？\",\n",
    "                 \"（\", \"）\",\n",
    "                 \"(\", \")\",\n",
    "                 \"\\\"\", \"'\"}\n"
   ]
  },
  {
   "cell_type": "markdown",
   "metadata": {},
   "source": [
    "# Running"
   ]
  },
  {
   "cell_type": "code",
   "execution_count": null,
   "metadata": {},
   "outputs": [],
   "source": [
    "from tqdm import tqdm\n",
    "\n",
    "batch_size = 100\n",
    "for index in tqdm(range(len(data) // batch_size)):\n",
    "    input = []\n",
    "    for i in range(batch_size):\n",
    "        input.append(data[index * batch_size + i]['articles'])\n",
    "        input.append(data[index * batch_size + i]['title'])\n",
    "\n",
    "    text = ws(input, segment_delimiter_set=delimiter_set)\n",
    "\n",
    "    for i in range(batch_size):\n",
    "        for key in text[i*2] + text[i*2+1]:\n",
    "            if key not in delimiter_set:\n",
    "                cursor.execute('INSERT INTO inverted_table(term, id) VALUES(?, ?)',\n",
    "                               (key, data[index * batch_size + i]['id']))\n",
    "    conn.commit()\n"
   ]
  },
  {
   "cell_type": "code",
   "execution_count": null,
   "metadata": {},
   "outputs": [],
   "source": [
    "\n",
    "cursor.close()\n",
    "conn.close()"
   ]
  }
 ],
 "metadata": {
  "interpreter": {
   "hash": "2db524e06e9f5f4ffedc911c917cb75e12dbc923643829bf417064a77eb14d37"
  },
  "kernelspec": {
   "display_name": "Python 3.8.0 64-bit",
   "name": "python3"
  },
  "language_info": {
   "codemirror_mode": {
    "name": "ipython",
    "version": 3
   },
   "file_extension": ".py",
   "mimetype": "text/x-python",
   "name": "python",
   "nbconvert_exporter": "python",
   "pygments_lexer": "ipython3",
   "version": "3.8.0"
  },
  "orig_nbformat": 4
 },
 "nbformat": 4,
 "nbformat_minor": 2
}
